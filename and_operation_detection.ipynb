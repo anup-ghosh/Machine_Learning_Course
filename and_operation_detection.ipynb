{
  "nbformat": 4,
  "nbformat_minor": 0,
  "metadata": {
    "colab": {
      "provenance": [],
      "authorship_tag": "ABX9TyM8QvDFnLz57iF2zHjqicXw",
      "include_colab_link": true
    },
    "kernelspec": {
      "name": "python3",
      "display_name": "Python 3"
    },
    "language_info": {
      "name": "python"
    }
  },
  "cells": [
    {
      "cell_type": "markdown",
      "metadata": {
        "id": "view-in-github",
        "colab_type": "text"
      },
      "source": [
        "<a href=\"https://colab.research.google.com/github/anup-ghosh/Machine_Learning_Course/blob/main/and_operation_detection.ipynb\" target=\"_parent\"><img src=\"https://colab.research.google.com/assets/colab-badge.svg\" alt=\"Open In Colab\"/></a>"
      ]
    },
    {
      "cell_type": "code",
      "execution_count": 77,
      "metadata": {
        "id": "D9OP4XERBgdi"
      },
      "outputs": [],
      "source": [
        "import numpy as np\n",
        "import tensorflow as tf"
      ]
    },
    {
      "cell_type": "code",
      "source": [
        "X_train_and = np.array([[0, 0],[0, 1],[1, 0],[1, 1]])\n",
        "y_train_and = np.array([[0],[0],[0],[1]])"
      ],
      "metadata": {
        "id": "AklNs1-HBvuG"
      },
      "execution_count": 78,
      "outputs": []
    },
    {
      "cell_type": "code",
      "source": [
        "model = tf.keras.Sequential([\n",
        "    tf.keras.layers.Dense(1, activation='sigmoid')\n",
        "])"
      ],
      "metadata": {
        "id": "1FS1ON1iBybT"
      },
      "execution_count": 79,
      "outputs": []
    },
    {
      "cell_type": "code",
      "source": [
        "model.compile(optimizer='adam', loss='binary_crossentropy', metrics=['accuracy'])"
      ],
      "metadata": {
        "id": "oOiI5OijB7MD"
      },
      "execution_count": 80,
      "outputs": []
    },
    {
      "cell_type": "code",
      "source": [
        "model.fit(X_train_and, y_train_and, epochs=1000, verbose=0)"
      ],
      "metadata": {
        "colab": {
          "base_uri": "https://localhost:8080/"
        },
        "id": "WKNAgv8BCAPq",
        "outputId": "33a2894e-667d-4f06-b95f-7cb7f5e6431d"
      },
      "execution_count": 81,
      "outputs": [
        {
          "output_type": "execute_result",
          "data": {
            "text/plain": [
              "<keras.src.callbacks.History at 0x780d993cb430>"
            ]
          },
          "metadata": {},
          "execution_count": 81
        }
      ]
    },
    {
      "cell_type": "code",
      "source": [
        "loss, accuracy = model.evaluate(X_train_and, y_train_and)\n",
        "print(f\"Training Accuracy: {accuracy}\")"
      ],
      "metadata": {
        "colab": {
          "base_uri": "https://localhost:8080/"
        },
        "id": "m8Rl_ImNCFxK",
        "outputId": "d98daeb9-e233-475f-c574-3626f06c791e"
      },
      "execution_count": 82,
      "outputs": [
        {
          "output_type": "stream",
          "name": "stdout",
          "text": [
            "1/1 [==============================] - 0s 120ms/step - loss: 0.5055 - accuracy: 1.0000\n",
            "Training Accuracy: 1.0\n"
          ]
        }
      ]
    },
    {
      "cell_type": "code",
      "source": [
        "X_test = np.array([[0, 0],[1, 0],[1, 1]])"
      ],
      "metadata": {
        "id": "m4GNu-MKCbvq"
      },
      "execution_count": 83,
      "outputs": []
    },
    {
      "cell_type": "code",
      "source": [
        "predictions = model.predict(X_test)\n",
        "print(\"Predictions:\")\n",
        "for i in range(len(X_test)):\n",
        "    print(f\"Input: {X_test[i]}, Predicted Output: {np.round(predictions[i])}\")"
      ],
      "metadata": {
        "colab": {
          "base_uri": "https://localhost:8080/"
        },
        "id": "c1LfsemqCXR-",
        "outputId": "6ae8c797-50bf-41db-9fc4-1bd5eb72da01"
      },
      "execution_count": 87,
      "outputs": [
        {
          "output_type": "stream",
          "name": "stdout",
          "text": [
            "1/1 [==============================] - 0s 20ms/step\n",
            "Predictions:\n",
            "Input: [0 0], Predicted Output: [0.]\n",
            "Input: [1 0], Predicted Output: [0.]\n",
            "Input: [1 1], Predicted Output: [1.]\n"
          ]
        }
      ]
    }
  ]
}